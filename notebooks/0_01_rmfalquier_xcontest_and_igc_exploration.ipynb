{
 "cells": [
  {
   "cell_type": "markdown",
   "metadata": {},
   "source": [
    "# Library Imports"
   ]
  },
  {
   "cell_type": "code",
   "execution_count": 12,
   "metadata": {},
   "outputs": [],
   "source": [
    "import re\n",
    "import pandas as pd\n",
    "import math"
   ]
  },
  {
   "cell_type": "markdown",
   "metadata": {},
   "source": [
    "# Helper Functions"
   ]
  },
  {
   "cell_type": "markdown",
   "metadata": {},
   "source": [
    "### IGC parsing"
   ]
  },
  {
   "cell_type": "code",
   "execution_count": 32,
   "metadata": {},
   "outputs": [],
   "source": [
    "def parse_igc(file_path):\n",
    "    \"\"\"\n",
    "    Parses an IGC (International Gliding Commission) file and extracts flight data into a structured format.\n",
    "\n",
    "    This function processes the IGC file, extracting `B` records that contain flight fixes. Each fix includes \n",
    "    the timestamp, latitude, longitude, GPS altitude, and barometric altitude. The latitude and longitude \n",
    "    values are converted from the IGC format (DDDMMmmm or DDMMmmm) to decimal degrees.\n",
    "\n",
    "    Parameters:\n",
    "    ----------\n",
    "    file_path : str\n",
    "        The file path to the IGC file to be parsed.\n",
    "\n",
    "    Returns:\n",
    "    -------\n",
    "    pandas.DataFrame\n",
    "        A DataFrame containing the parsed flight data with the following columns:\n",
    "        - `time` (str): The UTC time of the fix in HHMMSS format.\n",
    "        - `latitude` (float): The latitude of the fix in decimal degrees.\n",
    "        - `longitude` (float): The longitude of the fix in decimal degrees.\n",
    "        - `gps_altitude` (str): The GPS altitude of the fix in meters.\n",
    "        - `baro_altitude` (str): The barometric altitude of the fix in meters.\n",
    "\n",
    "    Notes:\n",
    "    -----\n",
    "    - The function contains a nested helper function `igc_to_decimal` for converting IGC coordinates \n",
    "      (DDDMMmmm or DDMMmmm) to decimal degrees.\n",
    "    - This function assumes that the IGC file follows the standard format and contains valid `B` records.\n",
    "\n",
    "    Raises:\n",
    "    ------\n",
    "    ValueError:\n",
    "        If the IGC coordinate format is invalid (not 7 or 8 characters long).\n",
    "    FileNotFoundError:\n",
    "        If the specified file cannot be found or opened.\n",
    "\n",
    "    Example:\n",
    "    --------\n",
    "    >>> parse_igc(\"flight.igc\")\n",
    "         time    latitude   longitude gps_altitude baro_altitude\n",
    "    0  123456  46.658233    8.054550         1985          2133\n",
    "    1  123457  46.658500    8.054700         1987          2135\n",
    "\n",
    "    \"\"\"\n",
    "    \n",
    "    # Convert IGC DDDMMmmm or DDMMmmm format to decimal degrees.\n",
    "    def igc_to_decimal(igc_coordinate, direction):\n",
    "        # Extract degrees, minutes, and thousandths of a minute\n",
    "        if len(igc_coordinate) == 7:  # Latitude: DDMMmmm\n",
    "            degrees = int(igc_coordinate[:2])\n",
    "            minutes = int(igc_coordinate[2:4])\n",
    "            thousandths = int(igc_coordinate[4:])\n",
    "        elif len(igc_coordinate) == 8:  # Longitude: DDDMMmmm\n",
    "            degrees = int(igc_coordinate[:3])\n",
    "            minutes = int(igc_coordinate[3:5])\n",
    "            thousandths = int(igc_coordinate[5:])\n",
    "        else:\n",
    "            raise ValueError(\"Invalid IGC coordinate format. Must be 7 or 8 characters.\")\n",
    "\n",
    "        # Convert to decimal degrees\n",
    "        decimal_degrees = degrees + (minutes + thousandths / 1000) / 60\n",
    "\n",
    "        # Apply negative sign for South or West directions\n",
    "        if direction in ['S', 'W']:\n",
    "            decimal_degrees *= -1\n",
    "\n",
    "        return decimal_degrees\n",
    "    \n",
    "    # Open IGC file\n",
    "    with open(file_path, 'r') as f:\n",
    "        lines = f.readlines()\n",
    "    \n",
    "    # Read each B record in the IGC file and extract the corresponding information\n",
    "    fixes = []\n",
    "    for line in lines:\n",
    "        if line.startswith(\"B\"):\n",
    "            timestamp = line[1:7]\n",
    "            lat = igc_to_decimal(line[7:14], line[14:15])\n",
    "            lon = igc_to_decimal(line[15:23], line[23:24])\n",
    "            gps_alt = line[25:30]\n",
    "            bar_alt = line[30:35]\n",
    "            \n",
    "            fixes.append([timestamp, lat, lon, gps_alt, bar_alt])\n",
    "    \n",
    "    return pd.DataFrame(fixes, columns=[\"time\", \n",
    "                                        \"latitude\", \n",
    "                                        \"longitude\",  \n",
    "                                        \"gps_altitude\", \n",
    "                                        \"baro_altitude\"\n",
    "                                        ])"
   ]
  },
  {
   "cell_type": "markdown",
   "metadata": {},
   "source": [
    "### Heading calculation between two points"
   ]
  },
  {
   "cell_type": "code",
   "execution_count": 14,
   "metadata": {},
   "outputs": [],
   "source": [
    "def calculate_heading(lat1, lon1, lat2, lon2):\n",
    "    # Convert latitude and longitude from degrees to radians\n",
    "    lat1, lon1, lat2, lon2 = map(math.radians, [lat1, lon1, lat2, lon2])\n",
    "    \n",
    "    # Difference in longitude\n",
    "    delta_lon = lon2 - lon1\n",
    "    \n",
    "    # Calculate initial bearing\n",
    "    x = math.sin(delta_lon) * math.cos(lat2)\n",
    "    y = math.cos(lat1) * math.sin(lat2) - math.sin(lat1) * math.cos(lat2) * math.cos(delta_lon)\n",
    "    initial_bearing = math.atan2(x, y)\n",
    "    \n",
    "    # Convert from radians to degrees\n",
    "    initial_bearing = math.degrees(initial_bearing)\n",
    "    \n",
    "    # Normalize to 0-360\n",
    "    compass_bearing = (initial_bearing + 360) % 360\n",
    "    \n",
    "    return compass_bearing"
   ]
  },
  {
   "cell_type": "markdown",
   "metadata": {},
   "source": [
    "### Placeholders"
   ]
  },
  {
   "cell_type": "code",
   "execution_count": null,
   "metadata": {},
   "outputs": [],
   "source": [
    "# TODO: heading calculation between each pair of points"
   ]
  },
  {
   "cell_type": "code",
   "execution_count": 31,
   "metadata": {},
   "outputs": [],
   "source": [
    "# TODO: configurable calculation for calculation of time taken to complete a turn"
   ]
  },
  {
   "cell_type": "code",
   "execution_count": null,
   "metadata": {},
   "outputs": [],
   "source": [
    "# TODO: configurable calculation for glide ratio based on rate of change of heading  "
   ]
  },
  {
   "cell_type": "code",
   "execution_count": null,
   "metadata": {},
   "outputs": [],
   "source": [
    "# TODO: basic sanity check visualization for climbing, gliding, thermalling"
   ]
  },
  {
   "cell_type": "markdown",
   "metadata": {},
   "source": [
    "# Exploration"
   ]
  },
  {
   "cell_type": "code",
   "execution_count": 33,
   "metadata": {},
   "outputs": [
    {
     "data": {
      "text/html": [
       "<div>\n",
       "<style scoped>\n",
       "    .dataframe tbody tr th:only-of-type {\n",
       "        vertical-align: middle;\n",
       "    }\n",
       "\n",
       "    .dataframe tbody tr th {\n",
       "        vertical-align: top;\n",
       "    }\n",
       "\n",
       "    .dataframe thead th {\n",
       "        text-align: right;\n",
       "    }\n",
       "</style>\n",
       "<table border=\"1\" class=\"dataframe\">\n",
       "  <thead>\n",
       "    <tr style=\"text-align: right;\">\n",
       "      <th></th>\n",
       "      <th>time</th>\n",
       "      <th>latitude</th>\n",
       "      <th>longitude</th>\n",
       "      <th>gps_altitude</th>\n",
       "      <th>baro_altitude</th>\n",
       "    </tr>\n",
       "  </thead>\n",
       "  <tbody>\n",
       "    <tr>\n",
       "      <th>0</th>\n",
       "      <td>104300</td>\n",
       "      <td>46.658233</td>\n",
       "      <td>8.05455</td>\n",
       "      <td>01985</td>\n",
       "      <td>02133</td>\n",
       "    </tr>\n",
       "    <tr>\n",
       "      <th>1</th>\n",
       "      <td>104301</td>\n",
       "      <td>46.658233</td>\n",
       "      <td>8.05455</td>\n",
       "      <td>01985</td>\n",
       "      <td>02133</td>\n",
       "    </tr>\n",
       "    <tr>\n",
       "      <th>2</th>\n",
       "      <td>104302</td>\n",
       "      <td>46.658233</td>\n",
       "      <td>8.05455</td>\n",
       "      <td>01985</td>\n",
       "      <td>02133</td>\n",
       "    </tr>\n",
       "    <tr>\n",
       "      <th>3</th>\n",
       "      <td>104303</td>\n",
       "      <td>46.658233</td>\n",
       "      <td>8.05455</td>\n",
       "      <td>01985</td>\n",
       "      <td>02133</td>\n",
       "    </tr>\n",
       "    <tr>\n",
       "      <th>4</th>\n",
       "      <td>104304</td>\n",
       "      <td>46.658233</td>\n",
       "      <td>8.05455</td>\n",
       "      <td>01985</td>\n",
       "      <td>02133</td>\n",
       "    </tr>\n",
       "  </tbody>\n",
       "</table>\n",
       "</div>"
      ],
      "text/plain": [
       "     time   latitude  longitude gps_altitude baro_altitude\n",
       "0  104300  46.658233    8.05455        01985         02133\n",
       "1  104301  46.658233    8.05455        01985         02133\n",
       "2  104302  46.658233    8.05455        01985         02133\n",
       "3  104303  46.658233    8.05455        01985         02133\n",
       "4  104304  46.658233    8.05455        01985         02133"
      ]
     },
     "execution_count": 33,
     "metadata": {},
     "output_type": "execute_result"
    }
   ],
   "source": [
    "df = parse_igc(\"../data/raw/igc/rmfalquier.2024-08-31.10-43-13.IGC\")\n",
    "df.head()"
   ]
  },
  {
   "cell_type": "code",
   "execution_count": 34,
   "metadata": {},
   "outputs": [
    {
     "name": "stdout",
     "output_type": "stream",
     "text": [
      "Heading: 309.64°\n"
     ]
    }
   ],
   "source": [
    "# 104621 4639459N 00803331E\n",
    "# 104622 4639463N 00803324E\n",
    "lat1, lon1 = 46.39459, 8.03331   # Point 1: Latitude, Longitude\n",
    "lat2, lon2 = 46.39463, 8.03324   # Point 2: Latitude, Longitude\n",
    "\n",
    "heading = calculate_heading(lat1, lon1, lat2, lon2)\n",
    "print(f\"Heading: {heading:.2f}°\")"
   ]
  }
 ],
 "metadata": {
  "kernelspec": {
   "display_name": "pg_exp",
   "language": "python",
   "name": "python3"
  },
  "language_info": {
   "codemirror_mode": {
    "name": "ipython",
    "version": 3
   },
   "file_extension": ".py",
   "mimetype": "text/x-python",
   "name": "python",
   "nbconvert_exporter": "python",
   "pygments_lexer": "ipython3",
   "version": "3.10.16"
  }
 },
 "nbformat": 4,
 "nbformat_minor": 2
}
